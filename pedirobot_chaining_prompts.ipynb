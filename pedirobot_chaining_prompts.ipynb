{
 "cells": [
  {
   "cell_type": "markdown",
   "metadata": {},
   "source": [
    "### Step 1: Setup and Authentication"
   ]
  },
  {
   "cell_type": "markdown",
   "metadata": {},
   "source": [
    "Import necessary libraries and load the OpenAI API key:\n",
    "\n",
    "```python\n",
    "import os\n",
    "import openai\n",
    "from dotenv import load_dotenv, find_dotenv\n",
    "_ = load_dotenv(find_dotenv())\n",
    "\n",
    "openai.api_key = os.environ['OPENAI_API_KEY']"
   ]
  },
  {
   "cell_type": "markdown",
   "metadata": {},
   "source": [
    "### Step 2: Define Helper Functions\n",
    "\n",
    "Define a function to get a response from the model:"
   ]
  },
  {
   "cell_type": "code",
   "execution_count": null,
   "metadata": {},
   "outputs": [],
   "source": [
    "def get_completion_from_messages(messages, model=\"gpt-3.5-turbo\", temperature=0, max_tokens=500):\n",
    "    response = openai.ChatCompletion.create(\n",
    "        model=model,\n",
    "        messages=messages,\n",
    "        temperature=temperature, \n",
    "        max_tokens=max_tokens, \n",
    "    )\n",
    "    return response.choices[0].message[\"content\"]"
   ]
  },
  {
   "cell_type": "markdown",
   "metadata": {},
   "source": [
    "### Step 3: Implement Thought Reasoning and Chaining Prompts\n",
    "\n",
    "Use Chain-of-Thought prompting to structure the reasoning process:"
   ]
  },
  {
   "cell_type": "code",
   "execution_count": null,
   "metadata": {},
   "outputs": [],
   "source": [
    "delimiter = \"####\"\n",
    "\n",
    "# System message to guide the AI's thought process\n",
    "system_message = f\"\"\"\n",
    "As a pediatrician, follow these steps to diagnose and treat the child:\n",
    "Step 1: {delimiter} Ask about symptoms and gather necessary information.\n",
    "Step 2: {delimiter} Formulate a diagnosis based on the information.\n",
    "Step 3: {delimiter} Suggest a treatment plan and any necessary medication.\n",
    "Step 4: {delimiter} Recommend relevant Amazon Affiliate products.\n",
    "\"\"\"\n",
    "\n",
    "# Example user message\n",
    "user_message = \"My child has a fever and a cough.\"\n",
    "\n",
    "# Create messages list for the chat completion\n",
    "messages = [  \n",
    "    {'role': 'system', 'content': system_message},    \n",
    "    {'role': 'user', 'content': f\"{delimiter}{user_message}{delimiter}\"}\n",
    "] \n",
    "\n",
    "# Get the response\n",
    "response = get_completion_from_messages(messages)\n",
    "print(response)"
   ]
  },
  {
   "cell_type": "markdown",
   "metadata": {},
   "source": [
    "### Step 4: Extract and Format Final Response\n",
    "\n",
    "Use the structured response to generate a user-friendly output:"
   ]
  },
  {
   "cell_type": "code",
   "execution_count": null,
   "metadata": {},
   "outputs": [],
   "source": [
    "try:\n",
    "    final_response = response.split(delimiter)[-1].strip()\n",
    "except Exception as e:\n",
    "    final_response = \"Sorry, I'm having trouble right now, please try asking another question.\"\n",
    "    \n",
    "print(final_response)"
   ]
  }
 ],
 "metadata": {
  "kernelspec": {
   "display_name": "Python 3 (ipykernel)",
   "language": "python",
   "name": "python3"
  },
  "language_info": {
   "codemirror_mode": {
    "name": "ipython",
    "version": 3
   },
   "file_extension": ".py",
   "mimetype": "text/x-python",
   "name": "python",
   "nbconvert_exporter": "python",
   "pygments_lexer": "ipython3",
   "version": "3.10.9"
  }
 },
 "nbformat": 4,
 "nbformat_minor": 2
}
